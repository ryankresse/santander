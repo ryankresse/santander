{
 "cells": [
  {
   "cell_type": "code",
   "execution_count": 1,
   "metadata": {
    "collapsed": true
   },
   "outputs": [],
   "source": [
    "import numpy as np\n",
    "import pandas as pd\n",
    "from scipy.spatial.distance import cosine"
   ]
  },
  {
   "cell_type": "code",
   "execution_count": 11,
   "metadata": {
    "collapsed": false
   },
   "outputs": [
    {
     "name": "stderr",
     "output_type": "stream",
     "text": [
      "//anaconda/lib/python3.5/site-packages/IPython/core/interactiveshell.py:2723: DtypeWarning: Columns (11,15) have mixed types. Specify dtype option on import or set low_memory=False.\n",
      "  interactivity=interactivity, compiler=compiler, result=result)\n"
     ]
    }
   ],
   "source": [
    "lastTwo = pd.read_csv('lastTwoMonths.csv.gz', compression='gzip')"
   ]
  },
  {
   "cell_type": "code",
   "execution_count": 12,
   "metadata": {
    "collapsed": false
   },
   "outputs": [
    {
     "data": {
      "text/plain": [
       "(1859727, 48)"
      ]
     },
     "execution_count": 12,
     "metadata": {},
     "output_type": "execute_result"
    }
   ],
   "source": [
    "lastTwo.shape"
   ]
  },
  {
   "cell_type": "code",
   "execution_count": 13,
   "metadata": {
    "collapsed": true
   },
   "outputs": [],
   "source": [
    "grouped = lastTwo.groupby('ncodpers')\n",
    "numRows = grouped.apply(lambda x: x.shape[0])\n",
    "numRowsDf = pd.DataFrame({'ncodpers': numRows.index.values, 'num': numRows})\n",
    "twoRows = numRowsDf[numRowsDf.num > 1]"
   ]
  },
  {
   "cell_type": "code",
   "execution_count": 16,
   "metadata": {
    "collapsed": false
   },
   "outputs": [
    {
     "data": {
      "text/html": [
       "<div>\n",
       "<table border=\"1\" class=\"dataframe\">\n",
       "  <thead>\n",
       "    <tr style=\"text-align: right;\">\n",
       "      <th></th>\n",
       "      <th>fecha_dato</th>\n",
       "      <th>ncodpers</th>\n",
       "      <th>ind_empleado</th>\n",
       "      <th>pais_residencia</th>\n",
       "      <th>sexo</th>\n",
       "      <th>age</th>\n",
       "      <th>fecha_alta</th>\n",
       "      <th>ind_nuevo</th>\n",
       "      <th>antiguedad</th>\n",
       "      <th>indrel</th>\n",
       "      <th>...</th>\n",
       "      <th>ind_hip_fin_ult1</th>\n",
       "      <th>ind_plan_fin_ult1</th>\n",
       "      <th>ind_pres_fin_ult1</th>\n",
       "      <th>ind_reca_fin_ult1</th>\n",
       "      <th>ind_tjcr_fin_ult1</th>\n",
       "      <th>ind_valo_fin_ult1</th>\n",
       "      <th>ind_viv_fin_ult1</th>\n",
       "      <th>ind_nomina_ult1</th>\n",
       "      <th>ind_nom_pens_ult1</th>\n",
       "      <th>ind_recibo_ult1</th>\n",
       "    </tr>\n",
       "  </thead>\n",
       "  <tbody>\n",
       "    <tr>\n",
       "      <th>0</th>\n",
       "      <td>2016-04-28</td>\n",
       "      <td>896836</td>\n",
       "      <td>N</td>\n",
       "      <td>ES</td>\n",
       "      <td>H</td>\n",
       "      <td>72</td>\n",
       "      <td>2010-11-12</td>\n",
       "      <td>0</td>\n",
       "      <td>65</td>\n",
       "      <td>1</td>\n",
       "      <td>...</td>\n",
       "      <td>0</td>\n",
       "      <td>0</td>\n",
       "      <td>0</td>\n",
       "      <td>0</td>\n",
       "      <td>0</td>\n",
       "      <td>0</td>\n",
       "      <td>0</td>\n",
       "      <td>0</td>\n",
       "      <td>0</td>\n",
       "      <td>0</td>\n",
       "    </tr>\n",
       "    <tr>\n",
       "      <th>1</th>\n",
       "      <td>2016-04-28</td>\n",
       "      <td>896837</td>\n",
       "      <td>N</td>\n",
       "      <td>ES</td>\n",
       "      <td>H</td>\n",
       "      <td>57</td>\n",
       "      <td>2010-11-12</td>\n",
       "      <td>0</td>\n",
       "      <td>65</td>\n",
       "      <td>1</td>\n",
       "      <td>...</td>\n",
       "      <td>0</td>\n",
       "      <td>0</td>\n",
       "      <td>0</td>\n",
       "      <td>0</td>\n",
       "      <td>0</td>\n",
       "      <td>0</td>\n",
       "      <td>0</td>\n",
       "      <td>0</td>\n",
       "      <td>0</td>\n",
       "      <td>0</td>\n",
       "    </tr>\n",
       "    <tr>\n",
       "      <th>2</th>\n",
       "      <td>2016-04-28</td>\n",
       "      <td>896839</td>\n",
       "      <td>N</td>\n",
       "      <td>ES</td>\n",
       "      <td>V</td>\n",
       "      <td>39</td>\n",
       "      <td>2010-11-12</td>\n",
       "      <td>0</td>\n",
       "      <td>65</td>\n",
       "      <td>1</td>\n",
       "      <td>...</td>\n",
       "      <td>0</td>\n",
       "      <td>0</td>\n",
       "      <td>0</td>\n",
       "      <td>0</td>\n",
       "      <td>0</td>\n",
       "      <td>0</td>\n",
       "      <td>0</td>\n",
       "      <td>0</td>\n",
       "      <td>0</td>\n",
       "      <td>0</td>\n",
       "    </tr>\n",
       "    <tr>\n",
       "      <th>3</th>\n",
       "      <td>2016-04-28</td>\n",
       "      <td>896853</td>\n",
       "      <td>N</td>\n",
       "      <td>ES</td>\n",
       "      <td>H</td>\n",
       "      <td>71</td>\n",
       "      <td>2010-11-12</td>\n",
       "      <td>0</td>\n",
       "      <td>65</td>\n",
       "      <td>1</td>\n",
       "      <td>...</td>\n",
       "      <td>0</td>\n",
       "      <td>0</td>\n",
       "      <td>0</td>\n",
       "      <td>0</td>\n",
       "      <td>0</td>\n",
       "      <td>0</td>\n",
       "      <td>0</td>\n",
       "      <td>0</td>\n",
       "      <td>0</td>\n",
       "      <td>0</td>\n",
       "    </tr>\n",
       "    <tr>\n",
       "      <th>4</th>\n",
       "      <td>2016-04-28</td>\n",
       "      <td>896849</td>\n",
       "      <td>N</td>\n",
       "      <td>ES</td>\n",
       "      <td>V</td>\n",
       "      <td>25</td>\n",
       "      <td>2010-11-12</td>\n",
       "      <td>0</td>\n",
       "      <td>65</td>\n",
       "      <td>1</td>\n",
       "      <td>...</td>\n",
       "      <td>0</td>\n",
       "      <td>0</td>\n",
       "      <td>0</td>\n",
       "      <td>0</td>\n",
       "      <td>1</td>\n",
       "      <td>0</td>\n",
       "      <td>0</td>\n",
       "      <td>0</td>\n",
       "      <td>0</td>\n",
       "      <td>0</td>\n",
       "    </tr>\n",
       "  </tbody>\n",
       "</table>\n",
       "<p>5 rows × 48 columns</p>\n",
       "</div>"
      ],
      "text/plain": [
       "   fecha_dato  ncodpers ind_empleado pais_residencia sexo  age  fecha_alta  \\\n",
       "0  2016-04-28    896836            N              ES    H   72  2010-11-12   \n",
       "1  2016-04-28    896837            N              ES    H   57  2010-11-12   \n",
       "2  2016-04-28    896839            N              ES    V   39  2010-11-12   \n",
       "3  2016-04-28    896853            N              ES    H   71  2010-11-12   \n",
       "4  2016-04-28    896849            N              ES    V   25  2010-11-12   \n",
       "\n",
       "   ind_nuevo  antiguedad  indrel       ...        ind_hip_fin_ult1  \\\n",
       "0          0          65       1       ...                       0   \n",
       "1          0          65       1       ...                       0   \n",
       "2          0          65       1       ...                       0   \n",
       "3          0          65       1       ...                       0   \n",
       "4          0          65       1       ...                       0   \n",
       "\n",
       "  ind_plan_fin_ult1 ind_pres_fin_ult1 ind_reca_fin_ult1 ind_tjcr_fin_ult1  \\\n",
       "0                 0                 0                 0                 0   \n",
       "1                 0                 0                 0                 0   \n",
       "2                 0                 0                 0                 0   \n",
       "3                 0                 0                 0                 0   \n",
       "4                 0                 0                 0                 1   \n",
       "\n",
       "  ind_valo_fin_ult1 ind_viv_fin_ult1 ind_nomina_ult1  ind_nom_pens_ult1  \\\n",
       "0                 0                0               0                  0   \n",
       "1                 0                0               0                  0   \n",
       "2                 0                0               0                  0   \n",
       "3                 0                0               0                  0   \n",
       "4                 0                0               0                  0   \n",
       "\n",
       "   ind_recibo_ult1  \n",
       "0                0  \n",
       "1                0  \n",
       "2                0  \n",
       "3                0  \n",
       "4                0  \n",
       "\n",
       "[5 rows x 48 columns]"
      ]
     },
     "execution_count": 16,
     "metadata": {},
     "output_type": "execute_result"
    }
   ],
   "source": [
    "lastTwo.head()"
   ]
  },
  {
   "cell_type": "code",
   "execution_count": 17,
   "metadata": {
    "collapsed": true
   },
   "outputs": [],
   "source": [
    "withBoth = twoRows.merge(lastTwo, on='ncodpers')"
   ]
  },
  {
   "cell_type": "code",
   "execution_count": 26,
   "metadata": {
    "collapsed": false
   },
   "outputs": [
    {
     "data": {
      "text/plain": [
       "(1853326, 49)"
      ]
     },
     "execution_count": 26,
     "metadata": {},
     "output_type": "execute_result"
    }
   ],
   "source": [
    "withBoth.shape"
   ]
  },
  {
   "cell_type": "code",
   "execution_count": 9,
   "metadata": {
    "collapsed": true
   },
   "outputs": [],
   "source": [
    "lastTwo = None"
   ]
  },
  {
   "cell_type": "code",
   "execution_count": 27,
   "metadata": {
    "collapsed": false
   },
   "outputs": [],
   "source": [
    "withBoth = withBoth.drop(['num'], axis=1)"
   ]
  },
  {
   "cell_type": "code",
   "execution_count": 29,
   "metadata": {
    "collapsed": true
   },
   "outputs": [],
   "source": [
    "may = withBoth[withBoth.fecha_dato == '2016-04-28']\n",
    "june = withBoth[withBoth.fecha_dato == '2016-05-28']"
   ]
  },
  {
   "cell_type": "code",
   "execution_count": 30,
   "metadata": {
    "collapsed": false
   },
   "outputs": [],
   "source": [
    "productCols = np.insert(may.columns.values[24:], len(may.columns[24:]),'ncodpers')\n",
    "productColsForProdAdded = productCols[:-1]"
   ]
  },
  {
   "cell_type": "code",
   "execution_count": 31,
   "metadata": {
    "collapsed": true
   },
   "outputs": [],
   "source": [
    "may = may[productCols]\n",
    "june= june[productCols]"
   ]
  },
  {
   "cell_type": "code",
   "execution_count": 33,
   "metadata": {
    "collapsed": true
   },
   "outputs": [],
   "source": [
    "simMat = np.zeros((24,24))"
   ]
  },
  {
   "cell_type": "code",
   "execution_count": 34,
   "metadata": {
    "collapsed": false
   },
   "outputs": [],
   "source": [
    "for i in list(range(0,24)):\n",
    "    for j in list(range(0,24)):\n",
    "        simMat[i,j] = 1 - cosine(may.iloc[:, i].values, may.iloc[:, j].values)        "
   ]
  },
  {
   "cell_type": "code",
   "execution_count": 35,
   "metadata": {
    "collapsed": false
   },
   "outputs": [],
   "source": [
    "simDf = pd.DataFrame(simMat, columns = may.columns.values[0:24], index = may.columns.values[0:24])"
   ]
  },
  {
   "cell_type": "code",
   "execution_count": 36,
   "metadata": {
    "collapsed": false
   },
   "outputs": [
    {
     "data": {
      "text/html": [
       "<div>\n",
       "<table border=\"1\" class=\"dataframe\">\n",
       "  <thead>\n",
       "    <tr style=\"text-align: right;\">\n",
       "      <th></th>\n",
       "      <th>ind_ahor_fin_ult1</th>\n",
       "      <th>ind_aval_fin_ult1</th>\n",
       "      <th>ind_cco_fin_ult1</th>\n",
       "      <th>ind_cder_fin_ult1</th>\n",
       "      <th>ind_cno_fin_ult1</th>\n",
       "      <th>ind_ctju_fin_ult1</th>\n",
       "      <th>ind_ctma_fin_ult1</th>\n",
       "      <th>ind_ctop_fin_ult1</th>\n",
       "      <th>ind_ctpp_fin_ult1</th>\n",
       "      <th>ind_deco_fin_ult1</th>\n",
       "      <th>...</th>\n",
       "      <th>ind_hip_fin_ult1</th>\n",
       "      <th>ind_plan_fin_ult1</th>\n",
       "      <th>ind_pres_fin_ult1</th>\n",
       "      <th>ind_reca_fin_ult1</th>\n",
       "      <th>ind_tjcr_fin_ult1</th>\n",
       "      <th>ind_valo_fin_ult1</th>\n",
       "      <th>ind_viv_fin_ult1</th>\n",
       "      <th>ind_nomina_ult1</th>\n",
       "      <th>ind_nom_pens_ult1</th>\n",
       "      <th>ind_recibo_ult1</th>\n",
       "    </tr>\n",
       "  </thead>\n",
       "  <tbody>\n",
       "    <tr>\n",
       "      <th>ind_ahor_fin_ult1</th>\n",
       "      <td>1.000000</td>\n",
       "      <td>0.000000</td>\n",
       "      <td>0.007146</td>\n",
       "      <td>0.000000</td>\n",
       "      <td>0.003829</td>\n",
       "      <td>0.000000</td>\n",
       "      <td>0.000000</td>\n",
       "      <td>0.012190</td>\n",
       "      <td>0.004983</td>\n",
       "      <td>0.000000</td>\n",
       "      <td>...</td>\n",
       "      <td>0.003381</td>\n",
       "      <td>0.005312</td>\n",
       "      <td>0.000000</td>\n",
       "      <td>0.008571</td>\n",
       "      <td>0.003054</td>\n",
       "      <td>0.007014</td>\n",
       "      <td>0.012564</td>\n",
       "      <td>0.002122</td>\n",
       "      <td>0.002025</td>\n",
       "      <td>0.005455</td>\n",
       "    </tr>\n",
       "    <tr>\n",
       "      <th>ind_aval_fin_ult1</th>\n",
       "      <td>0.000000</td>\n",
       "      <td>1.000000</td>\n",
       "      <td>0.002668</td>\n",
       "      <td>0.000000</td>\n",
       "      <td>0.009333</td>\n",
       "      <td>0.000000</td>\n",
       "      <td>0.002688</td>\n",
       "      <td>0.003146</td>\n",
       "      <td>0.008199</td>\n",
       "      <td>0.000000</td>\n",
       "      <td>...</td>\n",
       "      <td>0.000000</td>\n",
       "      <td>0.002913</td>\n",
       "      <td>0.000000</td>\n",
       "      <td>0.009402</td>\n",
       "      <td>0.009380</td>\n",
       "      <td>0.013677</td>\n",
       "      <td>0.000000</td>\n",
       "      <td>0.008146</td>\n",
       "      <td>0.007774</td>\n",
       "      <td>0.010471</td>\n",
       "    </tr>\n",
       "    <tr>\n",
       "      <th>ind_cco_fin_ult1</th>\n",
       "      <td>0.007146</td>\n",
       "      <td>0.002668</td>\n",
       "      <td>1.000000</td>\n",
       "      <td>0.017016</td>\n",
       "      <td>0.035273</td>\n",
       "      <td>0.000046</td>\n",
       "      <td>0.068261</td>\n",
       "      <td>0.278447</td>\n",
       "      <td>0.133078</td>\n",
       "      <td>0.019777</td>\n",
       "      <td>...</td>\n",
       "      <td>0.033528</td>\n",
       "      <td>0.057770</td>\n",
       "      <td>0.023675</td>\n",
       "      <td>0.137014</td>\n",
       "      <td>0.111251</td>\n",
       "      <td>0.137308</td>\n",
       "      <td>0.044371</td>\n",
       "      <td>0.042742</td>\n",
       "      <td>0.043890</td>\n",
       "      <td>0.256633</td>\n",
       "    </tr>\n",
       "    <tr>\n",
       "      <th>ind_cder_fin_ult1</th>\n",
       "      <td>0.000000</td>\n",
       "      <td>0.000000</td>\n",
       "      <td>0.017016</td>\n",
       "      <td>1.000000</td>\n",
       "      <td>0.013483</td>\n",
       "      <td>0.000000</td>\n",
       "      <td>0.000000</td>\n",
       "      <td>0.018641</td>\n",
       "      <td>0.011413</td>\n",
       "      <td>0.003145</td>\n",
       "      <td>...</td>\n",
       "      <td>0.003349</td>\n",
       "      <td>0.015782</td>\n",
       "      <td>0.001266</td>\n",
       "      <td>0.015121</td>\n",
       "      <td>0.012099</td>\n",
       "      <td>0.033960</td>\n",
       "      <td>0.006221</td>\n",
       "      <td>0.010245</td>\n",
       "      <td>0.011282</td>\n",
       "      <td>0.014351</td>\n",
       "    </tr>\n",
       "    <tr>\n",
       "      <th>ind_cno_fin_ult1</th>\n",
       "      <td>0.003829</td>\n",
       "      <td>0.009333</td>\n",
       "      <td>0.035273</td>\n",
       "      <td>0.013483</td>\n",
       "      <td>1.000000</td>\n",
       "      <td>0.000000</td>\n",
       "      <td>0.043827</td>\n",
       "      <td>0.114542</td>\n",
       "      <td>0.214676</td>\n",
       "      <td>0.012274</td>\n",
       "      <td>...</td>\n",
       "      <td>0.159052</td>\n",
       "      <td>0.120799</td>\n",
       "      <td>0.016080</td>\n",
       "      <td>0.355018</td>\n",
       "      <td>0.397073</td>\n",
       "      <td>0.153884</td>\n",
       "      <td>0.042391</td>\n",
       "      <td>0.752472</td>\n",
       "      <td>0.785982</td>\n",
       "      <td>0.570307</td>\n",
       "    </tr>\n",
       "  </tbody>\n",
       "</table>\n",
       "<p>5 rows × 24 columns</p>\n",
       "</div>"
      ],
      "text/plain": [
       "                   ind_ahor_fin_ult1  ind_aval_fin_ult1  ind_cco_fin_ult1  \\\n",
       "ind_ahor_fin_ult1           1.000000           0.000000          0.007146   \n",
       "ind_aval_fin_ult1           0.000000           1.000000          0.002668   \n",
       "ind_cco_fin_ult1            0.007146           0.002668          1.000000   \n",
       "ind_cder_fin_ult1           0.000000           0.000000          0.017016   \n",
       "ind_cno_fin_ult1            0.003829           0.009333          0.035273   \n",
       "\n",
       "                   ind_cder_fin_ult1  ind_cno_fin_ult1  ind_ctju_fin_ult1  \\\n",
       "ind_ahor_fin_ult1           0.000000          0.003829           0.000000   \n",
       "ind_aval_fin_ult1           0.000000          0.009333           0.000000   \n",
       "ind_cco_fin_ult1            0.017016          0.035273           0.000046   \n",
       "ind_cder_fin_ult1           1.000000          0.013483           0.000000   \n",
       "ind_cno_fin_ult1            0.013483          1.000000           0.000000   \n",
       "\n",
       "                   ind_ctma_fin_ult1  ind_ctop_fin_ult1  ind_ctpp_fin_ult1  \\\n",
       "ind_ahor_fin_ult1           0.000000           0.012190           0.004983   \n",
       "ind_aval_fin_ult1           0.002688           0.003146           0.008199   \n",
       "ind_cco_fin_ult1            0.068261           0.278447           0.133078   \n",
       "ind_cder_fin_ult1           0.000000           0.018641           0.011413   \n",
       "ind_cno_fin_ult1            0.043827           0.114542           0.214676   \n",
       "\n",
       "                   ind_deco_fin_ult1       ...         ind_hip_fin_ult1  \\\n",
       "ind_ahor_fin_ult1           0.000000       ...                 0.003381   \n",
       "ind_aval_fin_ult1           0.000000       ...                 0.000000   \n",
       "ind_cco_fin_ult1            0.019777       ...                 0.033528   \n",
       "ind_cder_fin_ult1           0.003145       ...                 0.003349   \n",
       "ind_cno_fin_ult1            0.012274       ...                 0.159052   \n",
       "\n",
       "                   ind_plan_fin_ult1  ind_pres_fin_ult1  ind_reca_fin_ult1  \\\n",
       "ind_ahor_fin_ult1           0.005312           0.000000           0.008571   \n",
       "ind_aval_fin_ult1           0.002913           0.000000           0.009402   \n",
       "ind_cco_fin_ult1            0.057770           0.023675           0.137014   \n",
       "ind_cder_fin_ult1           0.015782           0.001266           0.015121   \n",
       "ind_cno_fin_ult1            0.120799           0.016080           0.355018   \n",
       "\n",
       "                   ind_tjcr_fin_ult1  ind_valo_fin_ult1  ind_viv_fin_ult1  \\\n",
       "ind_ahor_fin_ult1           0.003054           0.007014          0.012564   \n",
       "ind_aval_fin_ult1           0.009380           0.013677          0.000000   \n",
       "ind_cco_fin_ult1            0.111251           0.137308          0.044371   \n",
       "ind_cder_fin_ult1           0.012099           0.033960          0.006221   \n",
       "ind_cno_fin_ult1            0.397073           0.153884          0.042391   \n",
       "\n",
       "                   ind_nomina_ult1  ind_nom_pens_ult1  ind_recibo_ult1  \n",
       "ind_ahor_fin_ult1         0.002122           0.002025         0.005455  \n",
       "ind_aval_fin_ult1         0.008146           0.007774         0.010471  \n",
       "ind_cco_fin_ult1          0.042742           0.043890         0.256633  \n",
       "ind_cder_fin_ult1         0.010245           0.011282         0.014351  \n",
       "ind_cno_fin_ult1          0.752472           0.785982         0.570307  \n",
       "\n",
       "[5 rows x 24 columns]"
      ]
     },
     "execution_count": 36,
     "metadata": {},
     "output_type": "execute_result"
    }
   ],
   "source": [
    "simDf.head()"
   ]
  },
  {
   "cell_type": "code",
   "execution_count": 37,
   "metadata": {
    "collapsed": false
   },
   "outputs": [],
   "source": [
    "mostPopularProds = may.iloc[24:,:-1].sum()"
   ]
  },
  {
   "cell_type": "code",
   "execution_count": 38,
   "metadata": {
    "collapsed": false
   },
   "outputs": [],
   "source": [
    "mostPopularProds = mostPopularProds.sort_values(ascending=False)\n",
    "sevenMostPop = \" \".join(list(mostPopularProds.index.values[:7]))"
   ]
  },
  {
   "cell_type": "code",
   "execution_count": 110,
   "metadata": {
    "collapsed": true
   },
   "outputs": [],
   "source": [
    "first10KMay = may.sort_values('ncodpers').head(50000)\n",
    "first10KJune = june.sort_values('ncodpers').head(50000)"
   ]
  },
  {
   "cell_type": "code",
   "execution_count": 111,
   "metadata": {
    "collapsed": false
   },
   "outputs": [],
   "source": [
    "def getPreds(r):\n",
    "    onesProds =  (r[r==1].index.values)\n",
    "    if len(onesProds) == 0:\n",
    "        return pd.Series({'prods': sevenMostPop, 'ncodpers': r['ncodpers']})\n",
    "    else:\n",
    "        simProdsScores = simDf.loc[onesProds,:].sum()\n",
    "        simProdsScores = simProdsScores.sort_values(ascending=False)\n",
    "        simProdsScores = simProdsScores.drop(onesProds)\n",
    "        topSeven = simProdsScores.iloc[:7]\n",
    "        topSevenNames = \" \".join(topSeven.index.values)\n",
    "        return pd.Series({'prods': topSevenNames, 'ncodpers': r['ncodpers']})\n",
    "preds = first10KMay.apply(lambda x: getPreds(x), axis=1)"
   ]
  },
  {
   "cell_type": "code",
   "execution_count": 112,
   "metadata": {
    "collapsed": false
   },
   "outputs": [],
   "source": [
    "lastWithPreds = preds.merge(withBoth, on='ncodpers')"
   ]
  },
  {
   "cell_type": "code",
   "execution_count": 113,
   "metadata": {
    "collapsed": true
   },
   "outputs": [],
   "source": [
    "def getProductsAdded(g):\n",
    "    added = []\n",
    "    firstMonth = g[g.fecha_dato == \"2016-04-28\"]\n",
    "    secondMonth = g[g.fecha_dato == \"2016-05-28\"]\n",
    "    diffs = secondMonth[productColsForProdAdded].values - firstMonth[productColsForProdAdded].values\n",
    "    added = [name for i, name in enumerate(productColsForProdAdded) if diffs[0][i] == 1]\n",
    "    spaceDelim = \" \".join(added)\n",
    "    return spaceDelim"
   ]
  },
  {
   "cell_type": "code",
   "execution_count": 114,
   "metadata": {
    "collapsed": false
   },
   "outputs": [],
   "source": [
    "byCust = lastWithPreds.groupby('ncodpers')\n",
    "prodsAdded = byCust.apply(getProductsAdded)\n",
    "prodsAddedDf = prodsAdded.to_frame().reset_index()\n",
    "prodsAddedDf.columns = ['ncodpers', 'prods_act']"
   ]
  },
  {
   "cell_type": "code",
   "execution_count": 115,
   "metadata": {
    "collapsed": false
   },
   "outputs": [],
   "source": [
    "addedWithProds = prodsAddedDf.merge(preds, on='ncodpers')"
   ]
  },
  {
   "cell_type": "code",
   "execution_count": 116,
   "metadata": {
    "collapsed": true
   },
   "outputs": [],
   "source": [
    "def transformProds(p):\n",
    "    if p == 'NaN':\n",
    "        return None\n",
    "    else:\n",
    "        return p.split()\n",
    "    \n",
    "addedWithProds['act_list'] = addedWithProds.prods_act.apply(transformProds)\n",
    "addedWithProds['pred_list'] = addedWithProds.prods.apply(transformProds)\n"
   ]
  },
  {
   "cell_type": "code",
   "execution_count": 117,
   "metadata": {
    "collapsed": true
   },
   "outputs": [],
   "source": [
    "addedWithProds.to_csv('50kPredsAndAct.csv')"
   ]
  },
  {
   "cell_type": "code",
   "execution_count": 118,
   "metadata": {
    "collapsed": true
   },
   "outputs": [],
   "source": [
    "def apk(actual, predicted, k=10):\n",
    "    \"\"\"\n",
    "    Computes the average precision at k.\n",
    "    This function computes the average prescision at k between two lists of\n",
    "    items.\n",
    "    Parameters\n",
    "    ----------\n",
    "    actual : list\n",
    "             A list of elements that are to be predicted (order doesn't matter)\n",
    "    predicted : list\n",
    "                A list of predicted elements (order does matter)\n",
    "    k : int, optional\n",
    "        The maximum number of predicted elements\n",
    "    Returns\n",
    "    -------\n",
    "    score : double\n",
    "            The average precision at k over the input lists\n",
    "    \"\"\"\n",
    "    if len(predicted)>k:\n",
    "        predicted = predicted[:k]\n",
    "\n",
    "    score = 0.0\n",
    "    num_hits = 0.0\n",
    "\n",
    "    for i,p in enumerate(predicted):\n",
    "        if p in actual and p not in predicted[:i]:\n",
    "            num_hits += 1.0\n",
    "            score += num_hits / (i+1.0)\n",
    "\n",
    "    if not actual:\n",
    "        return 0.0\n",
    "\n",
    "    return score / min(len(actual), k)\n",
    "\n",
    "def mapk(actual, predicted, k=10):\n",
    "    \"\"\"\n",
    "    Computes the mean average precision at k.\n",
    "    This function computes the mean average prescision at k between two lists\n",
    "    of lists of items.\n",
    "    Parameters\n",
    "    ----------\n",
    "    actual : list\n",
    "             A list of lists of elements that are to be predicted \n",
    "             (order doesn't matter in the lists)\n",
    "    predicted : list\n",
    "                A list of lists of predicted elements\n",
    "                (order matters in the lists)\n",
    "    k : int, optional\n",
    "        The maximum number of predicted elements\n",
    "    Returns\n",
    "    -------\n",
    "    score : double\n",
    "            The mean average precision at k over the input lists\n",
    "    \"\"\"\n",
    "    return np.mean([apk(a,p,k) for a,p in zip(actual, predicted)])\n",
    "    "
   ]
  },
  {
   "cell_type": "code",
   "execution_count": 119,
   "metadata": {
    "collapsed": false
   },
   "outputs": [
    {
     "data": {
      "text/plain": [
       "0.029690404761904762"
      ]
     },
     "execution_count": 119,
     "metadata": {},
     "output_type": "execute_result"
    }
   ],
   "source": [
    "mapk(addedWithProds.act_list.values, addedWithProds.pred_list.values, 7)"
   ]
  },
  {
   "cell_type": "code",
   "execution_count": 120,
   "metadata": {
    "collapsed": false
   },
   "outputs": [],
   "source": [
    "baseline = [sevenMostPop.split()] * 50000"
   ]
  },
  {
   "cell_type": "code",
   "execution_count": 121,
   "metadata": {
    "collapsed": false
   },
   "outputs": [
    {
     "data": {
      "text/plain": [
       "0.01314786111111111"
      ]
     },
     "execution_count": 121,
     "metadata": {},
     "output_type": "execute_result"
    }
   ],
   "source": [
    "mapk(addedWithProds.act_list.values, baseline, 7)"
   ]
  },
  {
   "cell_type": "code",
   "execution_count": null,
   "metadata": {
    "collapsed": true
   },
   "outputs": [],
   "source": []
  }
 ],
 "metadata": {
  "kernelspec": {
   "display_name": "Python 3",
   "language": "python",
   "name": "python3"
  },
  "language_info": {
   "codemirror_mode": {
    "name": "ipython",
    "version": 3
   },
   "file_extension": ".py",
   "mimetype": "text/x-python",
   "name": "python",
   "nbconvert_exporter": "python",
   "pygments_lexer": "ipython3",
   "version": "3.5.1"
  }
 },
 "nbformat": 4,
 "nbformat_minor": 0
}
